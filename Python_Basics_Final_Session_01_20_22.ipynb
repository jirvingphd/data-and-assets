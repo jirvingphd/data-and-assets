{
  "nbformat": 4,
  "nbformat_minor": 0,
  "metadata": {
    "colab": {
      "name": "Python Basics - Final Session - 01/20/22.ipynb",
      "provenance": [],
      "collapsed_sections": [],
      "authorship_tag": "ABX9TyPbzBK8zT7+1/1BsVKCrvwP",
      "include_colab_link": true
    },
    "kernelspec": {
      "name": "python3",
      "display_name": "Python 3"
    },
    "language_info": {
      "name": "python"
    }
  },
  "cells": [
    {
      "cell_type": "markdown",
      "metadata": {
        "id": "view-in-github",
        "colab_type": "text"
      },
      "source": [
        "<a href=\"https://colab.research.google.com/github/sensei-jirving/data-and-assets/blob/main/Python_Basics_Final_Session_01_20_22.ipynb\" target=\"_parent\"><img src=\"https://colab.research.google.com/assets/colab-badge.svg\" alt=\"Open In Colab\"/></a>"
      ]
    },
    {
      "cell_type": "markdown",
      "source": [
        "# Python Basics - Final Session\n"
      ],
      "metadata": {
        "id": "qdd4pAq22yCj"
      }
    },
    {
      "cell_type": "markdown",
      "source": [
        "- 1/20/22\n",
        "- 01.24.22 Online Part-Time Data Science Cohort"
      ],
      "metadata": {
        "id": "iVZsdgBB21XK"
      }
    },
    {
      "cell_type": "markdown",
      "source": [
        "## Agenda"
      ],
      "metadata": {
        "id": "mtsVFXgn243v"
      }
    },
    {
      "cell_type": "markdown",
      "source": [
        "- Introduction to Google Colab \n",
        "    - Colab Interface Overview\n",
        "    - Recommended Settings\n",
        "    - Connecting/Saving to GitHub from Colab\n",
        "- OOP Assignment Walkthrough/Solution\n",
        "    - [Class Notebook](https://colab.research.google.com/drive/19Yk_0KDLs5HvgqIKXo4iVoKBBnI-8fQa?usp=sharing)\n"
      ],
      "metadata": {
        "id": "mYg5FfJu26uv"
      }
    },
    {
      "cell_type": "markdown",
      "source": [
        "# Introduction to Google Colab \n"
      ],
      "metadata": {
        "id": "yRK_a9GwY5nx"
      }
    },
    {
      "cell_type": "markdown",
      "source": [
        "1. **Creating a new Google Colab Notebook:**\n",
        "    - From Colab's Homepage ([colab.research.google.com](http://colab.research.google.com))\n",
        "        - Click New Notebook.\n",
        "    - OR from Google Drive\n",
        "        - New > More > Google Colaboratory.\n",
        "    - New Notebooks are automatically saved in:\n",
        "        -  Drive > My Drive > Colab Notebooks\n",
        "\n",
        "2. **Sidebar Components**\n",
        "    - <img src=\"https://raw.githubusercontent.com/sensei-jirving/data-and-assets/main/colab_menu.jpg\" width=25px> Table of Contents\n",
        "    - <img src=\"https://raw.githubusercontent.com/sensei-jirving/data-and-assets/main/colab_find_replace.jpg\" width=25px> Find and Replace\n",
        "    - <img src=\"https://raw.githubusercontent.com/sensei-jirving/data-and-assets/main/colab_snippets.jpg\" width=25px> Code Snippets\n",
        "    - <img src=\"https://raw.githubusercontent.com/sensei-jirving/data-and-assets/main/colab_variable.jpg\" width=25px> Variable Inspector\n",
        "    - <img src=\"https://raw.githubusercontent.com/sensei-jirving/data-and-assets/main/colab_files.jpg\" width=25px> File View\n",
        "\n",
        "3. **Recommended Colab Settings**\n",
        "    - Open the Settings Menu from toolbar (`Tools` > `Settings`)\n",
        "    - **Site Settings:**\n",
        "        - Theme: up to you!\n",
        "        - Site: ☑️ Check \"Show desktop notifications for completed execution\"\n",
        "    - **Editor Settings:**\n",
        "        - Definitely Change: \n",
        "            - Check ☑️ Show Line Numbers\n",
        "        - Personal Preference: \n",
        "            - ⬛️ Uncheck \"Automatically trigger code completions\"\n",
        "                - Pressing Shift + Tab will display the documentation preview. \n",
        "                - Pressing Tab will suggest autocompletions.\n",
        "    - **Github Settings**\n",
        "        - Connect to github account."
      ],
      "metadata": {
        "id": "crNQpU3SY7xd"
      }
    },
    {
      "cell_type": "markdown",
      "source": [
        "# OOP Assignment Walkthrough/Solution\n"
      ],
      "metadata": {
        "id": "i87uX05vd-bB"
      }
    },
    {
      "cell_type": "markdown",
      "source": [
        "\n",
        "- [Class Notebook](https://colab.research.google.com/drive/19Yk_0KDLs5HvgqIKXo4iVoKBBnI-8fQa?usp=sharing)"
      ],
      "metadata": {
        "id": "lOHro3nIeALU"
      }
    }
  ]
}